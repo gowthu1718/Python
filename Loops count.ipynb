{
 "cells": [
  {
   "cell_type": "code",
   "execution_count": 2,
   "id": "01c1fcc7-238f-4903-bec8-3e8f56f820d9",
   "metadata": {},
   "outputs": [
    {
     "name": "stdout",
     "output_type": "stream",
     "text": [
      "First natural number\n",
      "1\n",
      "2\n",
      "3\n",
      "4\n",
      "5\n",
      "6\n",
      "7\n",
      "8\n",
      "9\n",
      "10\n"
     ]
    }
   ],
   "source": [
    "#Print the first 10 natural numbers using for loop\n",
    "print(\"First natural number\")\n",
    "\n",
    "for i in range(1,11):\n",
    "   print(i)\n"
   ]
  },
  {
   "cell_type": "code",
   "execution_count": 16,
   "id": "08ccb668-2746-4c36-b79e-8447ff4342d2",
   "metadata": {},
   "outputs": [
    {
     "name": "stdin",
     "output_type": "stream",
     "text": [
      "Enter a string:  2\n"
     ]
    },
    {
     "name": "stdout",
     "output_type": "stream",
     "text": [
      "The given string is a palindrome!\n"
     ]
    }
   ],
   "source": [
    "def is_palindrome(string):\n",
    "    # Remove spaces and convert to lowercase for uniformity\n",
    "    string = string.replace(\" \", \"\").lower()\n",
    "    # Check if the string is equal to its reverse\n",
    "    return string == string[::-1]\n",
    "\n",
    "# Input from the user\n",
    "user_input = input(\"Enter a string: \")\n",
    "\n",
    "if is_palindrome(user_input):\n",
    "    print(\"The given string is a palindrome!\")\n",
    "else:\n",
    "    print(\"The given string is not a palindrome.\")"
   ]
  },
  {
   "cell_type": "code",
   "execution_count": 12,
   "id": "067095b5-f32f-43cb-b916-99f58f809809",
   "metadata": {},
   "outputs": [
    {
     "name": "stdin",
     "output_type": "stream",
     "text": [
      "Enter any number to check: 153\n"
     ]
    },
    {
     "name": "stdout",
     "output_type": "stream",
     "text": [
      "It is a Armstrong Number\n"
     ]
    }
   ],
   "source": [
    "#Python program to check if a given number is an Armstrong number\n",
    "no = int(input(\"Enter any number to check:\"))\n",
    "no1 = no\n",
    "sum = 0\n",
    "while (no > 0):\n",
    "  ans = no % 10;\n",
    "  sum = sum + (ans * ans * ans)\n",
    "  no = int(no/10)\n",
    "if sum == no1:\n",
    "  print(\"It is a Armstrong Number\")\n",
    "else:\n",
    "  print(\"It is not a Armstrong Number\")"
   ]
  },
  {
   "cell_type": "code",
   "execution_count": 13,
   "id": "7e0b6f8e-40b1-456c-883e-6983029dfec4",
   "metadata": {},
   "outputs": [
    {
     "name": "stdout",
     "output_type": "stream",
     "text": [
      "0 1 2 4 8 16 32 "
     ]
    }
   ],
   "source": [
    "#Python program to get the Fibonacci series between 0 to 50\n",
    "def fibonacci_range():\n",
    "\n",
    "  a = 0\n",
    "  b = 1\n",
    "  while a <= 50:\n",
    "    print(a, end= ' ')\n",
    "    a = b\n",
    "    b = a + b\n",
    "\n",
    "fibonacci_range()"
   ]
  },
  {
   "cell_type": "code",
   "execution_count": null,
   "id": "cc25fb28-7753-442b-96fe-d0f3fed99cc7",
   "metadata": {},
   "outputs": [],
   "source": []
  }
 ],
 "metadata": {
  "kernelspec": {
   "display_name": "Python 3 (ipykernel)",
   "language": "python",
   "name": "python3"
  },
  "language_info": {
   "codemirror_mode": {
    "name": "ipython",
    "version": 3
   },
   "file_extension": ".py",
   "mimetype": "text/x-python",
   "name": "python",
   "nbconvert_exporter": "python",
   "pygments_lexer": "ipython3",
   "version": "3.12.7"
  }
 },
 "nbformat": 4,
 "nbformat_minor": 5
}
