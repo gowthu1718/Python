{
 "cells": [
  {
   "cell_type": "code",
   "execution_count": 4,
   "id": "a905146f-fb65-4a38-8033-e08d743e1f20",
   "metadata": {},
   "outputs": [
    {
     "name": "stdout",
     "output_type": "stream",
     "text": [
      "Name: Jack\n",
      "Age: 23\n",
      "Marks:\n",
      "  Mathematics: 98\n",
      "  Science: 88\n",
      "  English: 82\n",
      "Average Marks: 89.33\n",
      "Name: Rose\n",
      "Age: 22\n",
      "Marks:\n",
      "  Mathematics: 95\n",
      "  Science: 90\n",
      "  English: 85\n",
      "Average Marks: 90.00\n"
     ]
    }
   ],
   "source": [
    "#Student Management System\n",
    "class Student:\n",
    "    def __init__(self, name, age):\n",
    "        self.name = name\n",
    "        self.age = age\n",
    "        self.marks = {}\n",
    "\n",
    "    def add_marks(self, subject, mark):\n",
    "        self.marks[subject] = mark\n",
    "\n",
    "    def get_average_marks(self):\n",
    "        if not self.marks:\n",
    "            return 0\n",
    "        return sum(self.marks.values()) / len(self.marks)\n",
    "\n",
    "    def display_student_info(self):\n",
    "        print(f\"Name: {self.name}\")\n",
    "        print(f\"Age: {self.age}\")\n",
    "        print(\"Marks:\")\n",
    "        for subject, mark in self.marks.items():\n",
    "            print(f\"  {subject}: {mark}\")\n",
    "        print(f\"Average Marks: {self.get_average_marks():.2f}\")\n",
    "\n",
    "# Example usage\n",
    "student1 = Student(\"Jack\", 23)\n",
    "student1.add_marks(\"Mathematics\", 98)\n",
    "student1.add_marks(\"Science\", 88)\n",
    "student1.add_marks(\"English\", 82)\n",
    "\n",
    "student1.display_student_info()\n",
    "\n",
    "student2 = Student(\"Rose\", 22)\n",
    "student2.add_marks(\"Mathematics\", 95)\n",
    "student2.add_marks(\"Science\", 90)\n",
    "student2.add_marks(\"English\", 85)\n",
    "\n",
    "student2.display_student_info()"
   ]
  },
  {
   "cell_type": "code",
   "execution_count": 12,
   "id": "da1aba2a-a36e-4d27-81c1-0fdcd654abd9",
   "metadata": {},
   "outputs": [
    {
     "name": "stdout",
     "output_type": "stream",
     "text": [
      "Name: Jane Smith\n",
      "Position: Software Engineer\n",
      "Salary: $50000\n",
      "Name: Black Smith\n",
      "Position: Software Tester\n",
      "Salary: $60000\n",
      "\n",
      "\n",
      "Jane Smith has been promoted to Senior Software Engineer.\n",
      "Jane Smith's salary has been updated to $70000.\n",
      "Black Smith has been promoted to Senior Software Tester.\n",
      "Black Smith's salary has been updated to $70000.\n",
      "\n",
      "\n",
      "Name: Jane Smith\n",
      "Position: Senior Software Engineer\n",
      "Salary: $70000\n",
      "Name: Black Smith\n",
      "Position: Senior Software Tester\n",
      "Salary: $70000\n"
     ]
    }
   ],
   "source": [
    "#Employee Management\n",
    "class Employee:\n",
    "    def __init__(self, name, salary, position):\n",
    "        self.name = name\n",
    "        self.salary = salary\n",
    "        self.position = position\n",
    "\n",
    "    def promote(self, new_position):\n",
    "        self.position = new_position\n",
    "        print(f\"{self.name} has been promoted to {self.position}.\")\n",
    "\n",
    "    def update_salary(self, new_salary):\n",
    "        self.salary = new_salary\n",
    "        print(f\"{self.name}'s salary has been updated to ${self.salary}.\")\n",
    "\n",
    "    def display_info(self):\n",
    "        print(f\"Name: {self.name}\")\n",
    "        print(f\"Position: {self.position}\")\n",
    "        print(f\"Salary: ${self.salary}\")\n",
    "\n",
    "# Example usage\n",
    "employee1 = Employee(\"Jane Smith\", 50000, \"Software Engineer\")\n",
    "employee2 = Employee(\"Black Smith\", 60000, \"Software Tester\")\n",
    "\n",
    "employee1.display_info()\n",
    "employee2.display_info()\n",
    "print()\n",
    "print()\n",
    "\n",
    "employee1.promote(\"Senior Software Engineer\")\n",
    "employee1.update_salary(70000)\n",
    "employee2.promote(\"Senior Software Tester\")\n",
    "employee2.update_salary(70000)\n",
    "print()\n",
    "print()\n",
    "\n",
    "employee1.display_info()\n",
    "employee2.display_info()"
   ]
  },
  {
   "cell_type": "code",
   "execution_count": null,
   "id": "79455d82-7b45-4ed0-a207-1f21b647b722",
   "metadata": {},
   "outputs": [],
   "source": []
  }
 ],
 "metadata": {
  "kernelspec": {
   "display_name": "Python 3 (ipykernel)",
   "language": "python",
   "name": "python3"
  },
  "language_info": {
   "codemirror_mode": {
    "name": "ipython",
    "version": 3
   },
   "file_extension": ".py",
   "mimetype": "text/x-python",
   "name": "python",
   "nbconvert_exporter": "python",
   "pygments_lexer": "ipython3",
   "version": "3.12.7"
  }
 },
 "nbformat": 4,
 "nbformat_minor": 5
}
