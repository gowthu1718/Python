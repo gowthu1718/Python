{
 "cells": [
  {
   "cell_type": "code",
   "execution_count": 1,
   "id": "4959c8e6-f5a8-4b23-9e90-374fb9cb1885",
   "metadata": {},
   "outputs": [
    {
     "name": "stdin",
     "output_type": "stream",
     "text": [
      "Enter a number:  12\n"
     ]
    },
    {
     "name": "stdout",
     "output_type": "stream",
     "text": [
      "The number 12 is Even.\n"
     ]
    }
   ],
   "source": [
    "#using input() function \n",
    "num = int(input(\"Enter a number: \"))\n",
    "result = \"Even\" if num % 2 == 0 else \"Odd\"\n",
    "\n",
    "print(f\"The number {num} is {result}.\")"
   ]
  },
  {
   "cell_type": "code",
   "execution_count": 2,
   "id": "042a39c8-a6e7-4d50-b71c-b3cfd11568c0",
   "metadata": {},
   "outputs": [
    {
     "name": "stdin",
     "output_type": "stream",
     "text": [
      "Enter first number: 5\n",
      "Enter second number: 9\n"
     ]
    },
    {
     "name": "stdout",
     "output_type": "stream",
     "text": [
      "After swapping: a =9,b = 5\n"
     ]
    }
   ],
   "source": [
    "#swap two numbers\n",
    "\n",
    "a = int(input (\"Enter first number:\"))\n",
    "b = int(input (\"Enter second number:\"))\n",
    "a,b=b,a \n",
    "print(f\"After swapping: a ={a},b = {b}\")"
   ]
  },
  {
   "cell_type": "code",
   "execution_count": 3,
   "id": "aae6497c-95a3-4436-9645-1f96739d5591",
   "metadata": {},
   "outputs": [
    {
     "name": "stdin",
     "output_type": "stream",
     "text": [
      "Enter kilometers:  60\n"
     ]
    },
    {
     "name": "stdout",
     "output_type": "stream",
     "text": [
      "60.0 km is 37.28 miles\n"
     ]
    }
   ],
   "source": [
    "#convert kilometer to miles\n",
    "km = float(input(\"Enter kilometers: \"))  \n",
    "miles = km * 0.621371  \n",
    "print(f\"{km} km is {miles:.2f} miles\")"
   ]
  },
  {
   "cell_type": "code",
   "execution_count": 5,
   "id": "cb731997-bc63-479e-bfd9-a2dc48c930f0",
   "metadata": {},
   "outputs": [
    {
     "name": "stdout",
     "output_type": "stream",
     "text": [
      "Simple Interest: ₹56.0\n"
     ]
    }
   ],
   "source": [
    "# Given values\n",
    "P = 700  # Principal amount in Rupees\n",
    "R = 2   # Rate of interest per year\n",
    "T = 4    # Time in years\n",
    "\n",
    "SI = (P * R * T) / 100\n",
    "print(f\"Simple Interest: ₹{SI}\")"
   ]
  },
  {
   "cell_type": "code",
   "execution_count": null,
   "id": "0d57bf93-2e84-41ae-8fb5-10113794b2ad",
   "metadata": {},
   "outputs": [],
   "source": []
  }
 ],
 "metadata": {
  "kernelspec": {
   "display_name": "Python 3 (ipykernel)",
   "language": "python",
   "name": "python3"
  },
  "language_info": {
   "codemirror_mode": {
    "name": "ipython",
    "version": 3
   },
   "file_extension": ".py",
   "mimetype": "text/x-python",
   "name": "python",
   "nbconvert_exporter": "python",
   "pygments_lexer": "ipython3",
   "version": "3.12.7"
  }
 },
 "nbformat": 4,
 "nbformat_minor": 5
}
