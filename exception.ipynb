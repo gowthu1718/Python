{
 "cells": [
  {
   "cell_type": "code",
   "execution_count": 1,
   "id": "2b51e8ed-1979-499b-867f-e57404318507",
   "metadata": {},
   "outputs": [
    {
     "name": "stdout",
     "output_type": "stream",
     "text": [
      "Result: Error: Division by zero is not allowed.\n"
     ]
    }
   ],
   "source": [
    "# Function to safely perform division\n",
    "def safe_divide(a, b):\n",
    "    try:\n",
    "        # Attempt division\n",
    "        result = a / b\n",
    "    except ZeroDivisionError:\n",
    "        # Handle division by zero error\n",
    "        return \"Error: Division by zero is not allowed.\"\n",
    "    return result\n",
    "\n",
    "# Example usage\n",
    "numerator = 10\n",
    "denominator = 0\n",
    "print(\"Result:\", safe_divide(numerator, denominator))"
   ]
  },
  {
   "cell_type": "code",
   "execution_count": 2,
   "id": "82837abe-268c-4dd7-becb-0b98136a809f",
   "metadata": {},
   "outputs": [
    {
     "name": "stdin",
     "output_type": "stream",
     "text": [
      "Enter an integer:  +5\n"
     ]
    },
    {
     "name": "stdout",
     "output_type": "stream",
     "text": [
      "You entered the integer: 5\n"
     ]
    }
   ],
   "source": [
    "# Function to validate integer input\n",
    "def get_integer_input():\n",
    "    user_input = input(\"Enter an integer: \")\n",
    "    try:\n",
    "        # Attempt to convert the input to an integer\n",
    "        value = int(user_input)\n",
    "        return value\n",
    "    except ValueError:\n",
    "        # Raise an exception if the conversion fails\n",
    "        raise ValueError(\"Invalid input. Please enter a valid integer.\")\n",
    "\n",
    "# Example usage\n",
    "try:\n",
    "    integer_value = get_integer_input()\n",
    "    print(\"You entered the integer:\", integer_value)\n",
    "except ValueError as e:\n",
    "    print(e)"
   ]
  },
  {
   "cell_type": "code",
   "execution_count": null,
   "id": "55f956a0-7016-4e70-8bdc-b2525f232a80",
   "metadata": {},
   "outputs": [],
   "source": []
  }
 ],
 "metadata": {
  "kernelspec": {
   "display_name": "Python 3 (ipykernel)",
   "language": "python",
   "name": "python3"
  },
  "language_info": {
   "codemirror_mode": {
    "name": "ipython",
    "version": 3
   },
   "file_extension": ".py",
   "mimetype": "text/x-python",
   "name": "python",
   "nbconvert_exporter": "python",
   "pygments_lexer": "ipython3",
   "version": "3.12.7"
  }
 },
 "nbformat": 4,
 "nbformat_minor": 5
}
