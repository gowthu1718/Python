{
 "cells": [
  {
   "cell_type": "code",
   "execution_count": 7,
   "id": "5dfd9749-d81a-49f0-9172-3648e149fc43",
   "metadata": {},
   "outputs": [
    {
     "name": "stdout",
     "output_type": "stream",
     "text": [
      "original number: 27895\n",
      "reverse number: 59872\n"
     ]
    }
   ],
   "source": [
    "#Write a python program to reverse a number using a while loop\n",
    "\n",
    "a = \"27895\"\n",
    "b = ''\n",
    "i = len(a) - 1\n",
    "while(i >= 0):\n",
    "   b = b + a[i]\n",
    "   i = i - 1\n",
    "print(\"original number:\",a) \n",
    "print(\"reverse number:\",b) "
   ]
  },
  {
   "cell_type": "code",
   "execution_count": 10,
   "id": "90f21250-cb8f-468f-b823-06d33d1015e5",
   "metadata": {},
   "outputs": [
    {
     "name": "stdin",
     "output_type": "stream",
     "text": [
      "Enter the number to see if it's is a palindrome or not: 141\n"
     ]
    },
    {
     "name": "stdout",
     "output_type": "stream",
     "text": [
      "palindrome\n"
     ]
    }
   ],
   "source": [
    "#Write a python program to check whether a number is palindrome or not\n",
    "num = input(\"Enter the number to see if it's is a palindrome or not:\")\n",
    "\n",
    "try:\n",
    "  num = int(num)\n",
    "  new_num = str(num)[::-1]\n",
    "\n",
    "  if new_num == str(num):\n",
    "     print(\"palindrome\")\n",
    "  else:\n",
    "     print(\"Not a palindrome\")\n",
    "except:\n",
    "     print(\"this is not a number\")"
   ]
  },
  {
   "cell_type": "code",
   "execution_count": 15,
   "id": "bc44bab4-54c8-4dc4-b7ce-6e13d624f112",
   "metadata": {},
   "outputs": [
    {
     "name": "stdin",
     "output_type": "stream",
     "text": [
      "Enter the number: 8\n"
     ]
    },
    {
     "name": "stdout",
     "output_type": "stream",
     "text": [
      "The factorial of 8 is 40320\n"
     ]
    }
   ],
   "source": [
    "#Write a program finding the factorial of a given number using a while loop\n",
    "fact = 1\n",
    "i = 1\n",
    "\n",
    "num = int(input(\"Enter the number:\"))\n",
    "\n",
    "if num < 0:\n",
    "  print(\"Sorry, factorial does not exist for negative numbers\")\n",
    "else:\n",
    "    while i <= num:\n",
    "        fact = fact*i\n",
    "        i = i + 1\n",
    "print(\"The factorial of\",num, \"is\", fact)  "
   ]
  },
  {
   "cell_type": "code",
   "execution_count": null,
   "id": "24934ae7-5227-48ed-bacf-89863b59c568",
   "metadata": {},
   "outputs": [],
   "source": []
  }
 ],
 "metadata": {
  "kernelspec": {
   "display_name": "Python 3 (ipykernel)",
   "language": "python",
   "name": "python3"
  },
  "language_info": {
   "codemirror_mode": {
    "name": "ipython",
    "version": 3
   },
   "file_extension": ".py",
   "mimetype": "text/x-python",
   "name": "python",
   "nbconvert_exporter": "python",
   "pygments_lexer": "ipython3",
   "version": "3.12.7"
  }
 },
 "nbformat": 4,
 "nbformat_minor": 5
}
