{
 "cells": [
  {
   "cell_type": "code",
   "execution_count": 2,
   "id": "d6c41366-f30e-4431-87e6-7c5fad5d49e3",
   "metadata": {},
   "outputs": [
    {
     "name": "stdout",
     "output_type": "stream",
     "text": [
      "Number of alphabets in this string: 8\n",
      "Number of digits in this string: 3\n",
      "Number of special symbols in this string: 4\n"
     ]
    }
   ],
   "source": [
    "#Write a python program to count all letter, digits, and special symbols from the given string\n",
    "\n",
    "Input = \"P@#yn26at^&i5ve\"\n",
    "string = \"P@#yn26at^&i5ve\"\n",
    "alphabets = 0\n",
    "digits = 0\n",
    "special = 0\n",
    "\n",
    "for i in range(len(string)):\n",
    "  if(string[i].isalpha()):\n",
    "     alphabets = alphabets +1\n",
    "  elif(string[i].isdigit()):\n",
    "     digits = digits + 1\n",
    "  else:\n",
    "     special = special + 1 \n",
    "print(\"Number of alphabets in this string:\",alphabets) \n",
    "print(\"Number of digits in this string:\",digits)   \n",
    "print(\"Number of special symbols in this string:\",special)"
   ]
  },
  {
   "cell_type": "code",
   "execution_count": 5,
   "id": "fcfba07f-085f-4722-81fc-2081be06825e",
   "metadata": {},
   "outputs": [
    {
     "name": "stdout",
     "output_type": "stream",
     "text": [
      "Enter the string:\n"
     ]
    },
    {
     "name": "stdin",
     "output_type": "stream",
     "text": [
      " string and string function\n"
     ]
    },
    {
     "name": "stdout",
     "output_type": "stream",
     "text": [
      "New String: string and function \n"
     ]
    }
   ],
   "source": [
    "#Write a python program to remove duplicate characters of a given string\n",
    "\n",
    "Input = \"String and String Function\"\n",
    "\n",
    "print(\"Enter the string:\")\n",
    "str = input()\n",
    "\n",
    "old_list = str.split()\n",
    "new_list =[]\n",
    "j = 0\n",
    "\n",
    "for i in range(len(old_list)):\n",
    "  if old_list[i] not in new_list:\n",
    "    new_list.insert(j, old_list[i])\n",
    "    j = j + 1\n",
    "\n",
    "new_str = \"\"\n",
    "for i in range(len(new_list)):    \n",
    "  new_str = new_str + new_list[i] + \" \"\n",
    "\n",
    "print(\"New String:\", new_str)"
   ]
  },
  {
   "cell_type": "code",
   "execution_count": 7,
   "id": "2d0283f5-4122-4bc7-8a05-38a2e7e41d87",
   "metadata": {},
   "outputs": [
    {
     "name": "stdout",
     "output_type": "stream",
     "text": [
      "The number of vowels in the string is: 8\n"
     ]
    }
   ],
   "source": [
    "#Write a python program to count vowels in a string\n",
    "\n",
    "Input = \"Welcome to python Assignment\"\n",
    "\n",
    "def count_vowels(string):\n",
    "  vowels = \"aeiouAEIOU\"\n",
    "  count = 0\n",
    "  for char in string:\n",
    "    if char in vowels:\n",
    "      count +=1\n",
    "  return count\n",
    "\n",
    "s = \"Welcome to python Assignment\"    \n",
    "vowel_count = count_vowels(s)\n",
    "\n",
    "print(f\"The number of vowels in the string is: {vowel_count}\")\n"
   ]
  },
  {
   "cell_type": "code",
   "execution_count": null,
   "id": "fa76face-5489-49ba-a3e5-cf7a239cb39c",
   "metadata": {},
   "outputs": [],
   "source": []
  }
 ],
 "metadata": {
  "kernelspec": {
   "display_name": "Python 3 (ipykernel)",
   "language": "python",
   "name": "python3"
  },
  "language_info": {
   "codemirror_mode": {
    "name": "ipython",
    "version": 3
   },
   "file_extension": ".py",
   "mimetype": "text/x-python",
   "name": "python",
   "nbconvert_exporter": "python",
   "pygments_lexer": "ipython3",
   "version": "3.12.7"
  }
 },
 "nbformat": 4,
 "nbformat_minor": 5
}
