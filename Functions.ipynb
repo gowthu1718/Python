{
 "cells": [
  {
   "cell_type": "code",
   "execution_count": 1,
   "id": "8b27ef1e-ca8c-4e64-b362-c795623e431a",
   "metadata": {},
   "outputs": [
    {
     "name": "stdin",
     "output_type": "stream",
     "text": [
      "Enter first number:  5\n",
      "Enter second number:  8\n"
     ]
    },
    {
     "name": "stdout",
     "output_type": "stream",
     "text": [
      "Division of 5.0 by 8.0 is 0.62\n"
     ]
    }
   ],
   "source": [
    "# Function to perform division\n",
    "def div(a, b):\n",
    "    return a / b \n",
    "\n",
    "num1 = float(input(\"Enter first number: \"))\n",
    "num2 = float(input(\"Enter second number: \"))\n",
    "\n",
    "if num2 != 0:\n",
    "    result = div(num1, num2)\n",
    "    print(f\"Division of {num1} by {num2} is {result:.2f}\")\n",
    "else:\n",
    "    print(\"Error! Division by zero is not allowed.\")"
   ]
  },
  {
   "cell_type": "code",
   "execution_count": 2,
   "id": "6375e390-7176-44d6-afba-99e529c01967",
   "metadata": {},
   "outputs": [
    {
     "name": "stdout",
     "output_type": "stream",
     "text": [
      "Random numbers: [24, 90, 16, 15, 85]\n",
      "Maximum number: 90\n",
      "Minimum number: 15\n"
     ]
    }
   ],
   "source": [
    "import random\n",
    "# Generate 5 random numbers\n",
    "numbers = [random.randint(1, 100) for _ in range(5)]\n",
    "\n",
    "print(\"Random numbers:\", numbers)\n",
    "print(\"Maximum number:\", max(numbers))\n",
    "print(\"Minimum number:\", min(numbers))"
   ]
  },
  {
   "cell_type": "code",
   "execution_count": 5,
   "id": "48677244-4282-48bc-ba1b-288444207413",
   "metadata": {},
   "outputs": [
    {
     "name": "stdin",
     "output_type": "stream",
     "text": [
      "Enter your name:  Gowthu\n"
     ]
    },
    {
     "name": "stdout",
     "output_type": "stream",
     "text": [
      "Name in lowercase: gowthu\n"
     ]
    }
   ],
   "source": [
    "# Accept name from user\n",
    "name = input(\"Enter your name: \")\n",
    "print(\"Name in lowercase:\", name.lower())"
   ]
  },
  {
   "cell_type": "code",
   "execution_count": 6,
   "id": "aa19dad9-2fad-4958-adce-7927ad4c6c53",
   "metadata": {},
   "outputs": [
    {
     "name": "stdin",
     "output_type": "stream",
     "text": [
      "Enter a number:  15\n"
     ]
    },
    {
     "name": "stdout",
     "output_type": "stream",
     "text": [
      "The square of 15.0 is 225.0\n"
     ]
    }
   ],
   "source": [
    "# Function to calculate square of a number\n",
    "def square(num):\n",
    "    return num ** 2 \n",
    "\n",
    "number = float(input(\"Enter a number: \"))\n",
    "print(f\"The square of {number} is {square(number)}\")\n"
   ]
  },
  {
   "cell_type": "code",
   "execution_count": 11,
   "id": "69c08f7b-db27-41cd-ba16-fbbc41e2a919",
   "metadata": {},
   "outputs": [
    {
     "name": "stdout",
     "output_type": "stream",
     "text": [
      "Positive\n",
      "Negative\n",
      "Zero\n"
     ]
    }
   ],
   "source": [
    "# Lambda function to check number type\n",
    "check_number = lambda x: \"Positive\" if x > 0 else \"Negative\" if x < 0 else \"Zero\"\n",
    "\n",
    "print(check_number(10))   # Output: Positive\n",
    "print(check_number(-5))   # Output: Negative\n",
    "print(check_number(0))    # Output: Zero"
   ]
  },
  {
   "cell_type": "code",
   "execution_count": null,
   "id": "751ed9d8-bbc9-47e7-a154-827eeb480c0b",
   "metadata": {},
   "outputs": [],
   "source": []
  }
 ],
 "metadata": {
  "kernelspec": {
   "display_name": "Python 3 (ipykernel)",
   "language": "python",
   "name": "python3"
  },
  "language_info": {
   "codemirror_mode": {
    "name": "ipython",
    "version": 3
   },
   "file_extension": ".py",
   "mimetype": "text/x-python",
   "name": "python",
   "nbconvert_exporter": "python",
   "pygments_lexer": "ipython3",
   "version": "3.12.7"
  }
 },
 "nbformat": 4,
 "nbformat_minor": 5
}
