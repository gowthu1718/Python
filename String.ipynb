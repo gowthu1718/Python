{
 "cells": [
  {
   "cell_type": "code",
   "execution_count": 1,
   "id": "f4f3288c-eae1-4bd8-bb0d-56b7bea8b76f",
   "metadata": {},
   "outputs": [
    {
     "name": "stdout",
     "output_type": "stream",
     "text": [
      "available : 1\n",
      "change : 2\n",
      "document, : 1\n",
      "gallery : 1\n",
      "in : 1\n",
      "look : 2\n",
      "of : 1\n",
      "overall : 1\n",
      "the : 3\n",
      "to : 2\n",
      "your : 1\n"
     ]
    }
   ],
   "source": [
    "#Write a python program to count the occurences  of each word in a given sentence\n",
    "\n",
    "string = \"to change the overall look of your document, to change the look available in the gallery\"\n",
    "\n",
    "strl = string.split(' ')\n",
    "strls = set(strl)\n",
    "strls = list(strls)\n",
    "strls.sort()\n",
    "counter = []\n",
    "for i in strls:\n",
    "  counter.append(strl.count(i))\n",
    "for i in range(len(strls)):\n",
    "  print(strls[i], ':', counter[i])"
   ]
  },
  {
   "cell_type": "code",
   "execution_count": 3,
   "id": "cf73df3a-795e-4186-ac25-0b983caefdef",
   "metadata": {},
   "outputs": [
    {
     "name": "stdout",
     "output_type": "stream",
     "text": [
      "\n",
      "Best \n",
      "deeptech \n",
      "python \n",
      "training\n"
     ]
    }
   ],
   "source": [
    "#Write a Python program to remove a newline in python\n",
    "\n",
    "String = \"\\nBest \\ndeeptech \\npython \\ntraining\"\n",
    "s = \"\\nBest \\ndeeptech \\npython \\ntraining\"\n",
    "\n",
    "r = s.split(\"\\n\")\n",
    "for i in r:\n",
    "  print(i)"
   ]
  },
  {
   "cell_type": "code",
   "execution_count": 4,
   "id": "e1ba594a-3d06-45f2-8dc1-601a5fc69e02",
   "metadata": {},
   "outputs": [
    {
     "name": "stdout",
     "output_type": "stream",
     "text": [
      "Reversed String:\n",
      "training python Deeptech\n"
     ]
    }
   ],
   "source": [
    "#Write a python program to reverse words in a string\n",
    "String = \"Deeptech python training\"\n",
    "\n",
    "s = \"Deeptech python training\"\n",
    "words = s.split(' ')\n",
    "string =[]\n",
    "for word in words:\n",
    "    string.insert(0, word)\n",
    " \n",
    "print(\"Reversed String:\")\n",
    "print(\" \".join(string))"
   ]
  },
  {
   "cell_type": "code",
   "execution_count": null,
   "id": "0bc57027-d629-4cfc-b663-33cd890b0cd7",
   "metadata": {},
   "outputs": [],
   "source": []
  }
 ],
 "metadata": {
  "kernelspec": {
   "display_name": "Python 3 (ipykernel)",
   "language": "python",
   "name": "python3"
  },
  "language_info": {
   "codemirror_mode": {
    "name": "ipython",
    "version": 3
   },
   "file_extension": ".py",
   "mimetype": "text/x-python",
   "name": "python",
   "nbconvert_exporter": "python",
   "pygments_lexer": "ipython3",
   "version": "3.12.7"
  }
 },
 "nbformat": 4,
 "nbformat_minor": 5
}
