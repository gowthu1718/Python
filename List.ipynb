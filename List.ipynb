{
 "cells": [
  {
   "cell_type": "code",
   "execution_count": 4,
   "id": "f6cebae0-0219-472d-afc0-2dfa4749ff24",
   "metadata": {},
   "outputs": [
    {
     "name": "stdout",
     "output_type": "stream",
     "text": [
      "The sum is:  78\n",
      "The sum is:  134\n",
      "The sum is:  232\n",
      "The sum is:  271\n",
      "The sum is:  326\n",
      "The sum is:  417\n",
      "417\n"
     ]
    }
   ],
   "source": [
    "#Write a python program to sum all the items in a list\n",
    "\n",
    "list = [78,56,98,39,55,91]\n",
    "sum_of_numbers = 0\n",
    "\n",
    "for i in list:\n",
    "  sum_of_numbers += i\n",
    "\n",
    "  print(\"The sum is: \",sum_of_numbers)\n",
    "    \n",
    "list = [78,56,98,39,55,91]\n",
    "r = sum(list)\n",
    "print(r)"
   ]
  },
  {
   "cell_type": "code",
   "execution_count": 5,
   "id": "49e0429b-1b1e-49a4-ae7e-773fd354373a",
   "metadata": {},
   "outputs": [
    {
     "name": "stdout",
     "output_type": "stream",
     "text": [
      "Largest element: 8\n",
      "Smallest element: 1\n"
     ]
    }
   ],
   "source": [
    "#Write a python program to get the largest and smallest number from a list without builtin function\n",
    "import numpy\n",
    "arr = numpy.array([1, 5, 4, 8, 3, 7])\n",
    "\n",
    "max_ele = numpy.max(arr)\n",
    "min_ele = numpy.min(arr)\n",
    "\n",
    "print(\"Largest element:\",max_ele)\n",
    "print(\"Smallest element:\",min_ele)"
   ]
  },
  {
   "cell_type": "code",
   "execution_count": 30,
   "id": "f4d98a15-8ca1-43b5-a74d-4d30f64ec433",
   "metadata": {},
   "outputs": [
    {
     "name": "stdout",
     "output_type": "stream",
     "text": [
      "Duplicate values: [2, 3]\n"
     ]
    }
   ],
   "source": [
    "def find_duplicates(input_list):\n",
    "    duplicates = []\n",
    "    unique_elements = set()\n",
    "\n",
    "    for item in input_list:\n",
    "        if item in unique_elements:\n",
    "            if item not in duplicates:\n",
    "                duplicates.append(item)\n",
    "        else:\n",
    "            unique_elements.add(item)\n",
    "\n",
    "    return duplicates\n",
    "\n",
    "# Example usage\n",
    "user_list = [1, 2, 3, 4, 5, 2, 3, 6, 7, 3]\n",
    "duplicates = find_duplicates(user_list)\n",
    "print(\"Duplicate values:\", duplicates)"
   ]
  },
  {
   "cell_type": "code",
   "execution_count": null,
   "id": "107a0bf4-0c47-46ff-9dde-a2256af27519",
   "metadata": {},
   "outputs": [],
   "source": []
  }
 ],
 "metadata": {
  "kernelspec": {
   "display_name": "Python 3 (ipykernel)",
   "language": "python",
   "name": "python3"
  },
  "language_info": {
   "codemirror_mode": {
    "name": "ipython",
    "version": 3
   },
   "file_extension": ".py",
   "mimetype": "text/x-python",
   "name": "python",
   "nbconvert_exporter": "python",
   "pygments_lexer": "ipython3",
   "version": "3.12.7"
  }
 },
 "nbformat": 4,
 "nbformat_minor": 5
}
