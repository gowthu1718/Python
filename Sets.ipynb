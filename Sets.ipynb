{
 "cells": [
  {
   "cell_type": "code",
   "execution_count": 1,
   "id": "f4c68303-9da3-4588-902c-2eeb34af1677",
   "metadata": {},
   "outputs": [
    {
     "name": "stdout",
     "output_type": "stream",
     "text": [
      "Unique items from both sets: {70, 40, 10, 50, 20, 60, 30}\n"
     ]
    }
   ],
   "source": [
    "# Define the sets\n",
    "set1 = {10, 20, 30, 40, 50}\n",
    "set2 = {30, 40, 50, 60, 70}\n",
    "\n",
    "# Combine the sets to include only unique items\n",
    "unique_items = set1.union(set2)\n",
    "\n",
    "# Output the result\n",
    "print(\"Unique items from both sets:\", unique_items)"
   ]
  },
  {
   "cell_type": "code",
   "execution_count": 2,
   "id": "946bc71b-9dc8-4ae7-b9e8-33bcf4a4d06c",
   "metadata": {},
   "outputs": [
    {
     "name": "stdout",
     "output_type": "stream",
     "text": [
      "Symmetric Difference: {20, 70, 10, 60}\n"
     ]
    }
   ],
   "source": [
    "# Define the sets\n",
    "set1 = {10, 20, 30, 40, 50}\n",
    "set2 = {30, 40, 50, 60, 70}\n",
    "\n",
    "# Find elements present in either set but not both\n",
    "symmetric_difference = set1 ^ set2\n",
    "\n",
    "# Output the result\n",
    "print(\"Symmetric Difference:\", symmetric_difference)"
   ]
  },
  {
   "cell_type": "code",
   "execution_count": null,
   "id": "5435d08f-b27c-4471-8610-2a899cb362e6",
   "metadata": {},
   "outputs": [],
   "source": []
  }
 ],
 "metadata": {
  "kernelspec": {
   "display_name": "Python 3 (ipykernel)",
   "language": "python",
   "name": "python3"
  },
  "language_info": {
   "codemirror_mode": {
    "name": "ipython",
    "version": 3
   },
   "file_extension": ".py",
   "mimetype": "text/x-python",
   "name": "python",
   "nbconvert_exporter": "python",
   "pygments_lexer": "ipython3",
   "version": "3.12.7"
  }
 },
 "nbformat": 4,
 "nbformat_minor": 5
}
