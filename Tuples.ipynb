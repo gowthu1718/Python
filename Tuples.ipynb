{
 "cells": [
  {
   "cell_type": "code",
   "execution_count": 2,
   "id": "d6cc9095-c754-4316-96f3-6b3225f397b8",
   "metadata": {},
   "outputs": [
    {
     "name": "stdout",
     "output_type": "stream",
     "text": [
      "Number of times 4 appears: 3\n"
     ]
    }
   ],
   "source": [
    "# Given tuple\n",
    "tuplex = (2, 4, 5, 6, 2, 3, 4, 4, 7)\n",
    "\n",
    "# Count the number of times 4 appears in the tuple\n",
    "count_of_fours = tuplex.count(4)\n",
    "\n",
    "# Output the result\n",
    "print(\"Number of times 4 appears:\", count_of_fours)"
   ]
  },
  {
   "cell_type": "code",
   "execution_count": 3,
   "id": "f9002d21-fe5c-4b50-b4c7-f2adcb5fe9c4",
   "metadata": {},
   "outputs": [
    {
     "name": "stdout",
     "output_type": "stream",
     "text": [
      "Converted Tuple: (5, 10, 7, 4, 15, 3)\n"
     ]
    }
   ],
   "source": [
    "# Define the list\n",
    "listx = [5, 10, 7, 4, 15, 3]\n",
    "\n",
    "# Convert the list to a tuple\n",
    "tuplex = tuple(listx)\n",
    "\n",
    "# Output the result\n",
    "print(\"Converted Tuple:\", tuplex)"
   ]
  },
  {
   "cell_type": "code",
   "execution_count": null,
   "id": "51bf4f09-42bf-4291-9d3f-8cf942b41790",
   "metadata": {},
   "outputs": [],
   "source": []
  }
 ],
 "metadata": {
  "kernelspec": {
   "display_name": "Python 3 (ipykernel)",
   "language": "python",
   "name": "python3"
  },
  "language_info": {
   "codemirror_mode": {
    "name": "ipython",
    "version": 3
   },
   "file_extension": ".py",
   "mimetype": "text/x-python",
   "name": "python",
   "nbconvert_exporter": "python",
   "pygments_lexer": "ipython3",
   "version": "3.12.7"
  }
 },
 "nbformat": 4,
 "nbformat_minor": 5
}
